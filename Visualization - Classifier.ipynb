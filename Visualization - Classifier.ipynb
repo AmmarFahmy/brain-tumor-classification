{
 "cells": [
  {
   "cell_type": "markdown",
   "metadata": {},
   "source": [
    "# Visualizing Results from Classifier Training"
   ]
  },
  {
   "cell_type": "markdown",
   "metadata": {},
   "source": [
    "## Libraries"
   ]
  },
  {
   "cell_type": "code",
   "execution_count": null,
   "metadata": {},
   "outputs": [],
   "source": [
    "import matplotlib.pyplot as plt\n",
    "import pandas as pd\n",
    "import numpy as np\n",
    "import json\n",
    "import os\n",
    "import gc\n",
    "\n",
    "%matplotlib inline"
   ]
  },
  {
   "cell_type": "markdown",
   "metadata": {},
   "source": [
    "## Create Directory if not exists"
   ]
  },
  {
   "cell_type": "code",
   "execution_count": null,
   "metadata": {},
   "outputs": [],
   "source": [
    "base_path = os.path.join('docs', 'classifier')\n",
    "if not os.path.exists(base_path):\n",
    "    os.mkdir(base_path)"
   ]
  },
  {
   "cell_type": "markdown",
   "metadata": {},
   "source": [
    "## Results from Tuning ResNet 50 based Models"
   ]
  },
  {
   "cell_type": "code",
   "execution_count": null,
   "metadata": {},
   "outputs": [],
   "source": [
    "fig, ax = plt.subplots(nrows=1, ncols=2)\n",
    "fig.suptitle('Comparitive Performance of ResNet Models on various Dropouts', fontsize=20)\n",
    "fig.set_figwidth(21)\n",
    "fig.set_figheight(9)\n",
    "\n",
    "ax[0].set_title('Validation MSE Loss/Epoch', fontsize=15)\n",
    "ax[1].set_title('Training MSE Loss/Epoch', fontsize=15)\n",
    "\n",
    "for i in range(1,6):\n",
    "    df = pd.read_csv(os.path.join('logs', 'clf_resnet_{}.csv'.format(i / 10)))\n",
    "    ax[0].plot(df['val_loss'], label='Dropout - {}'.format(i / 10))\n",
    "    ax[1].plot(df['loss'], label='Dropout - {}'.format(i / 10))\n",
    "    del df\n",
    "\n",
    "ax[0].legend()\n",
    "ax[1].legend()\n",
    "\n",
    "gc.collect()\n",
    "plt.savefig(os.path.join(base_path, 'resnet.png'))"
   ]
  },
  {
   "cell_type": "markdown",
   "metadata": {},
   "source": [
    "## Results from Tuning Inception V3 based Models"
   ]
  },
  {
   "cell_type": "code",
   "execution_count": null,
   "metadata": {},
   "outputs": [],
   "source": [
    "fig, ax = plt.subplots(nrows=1, ncols=2)\n",
    "fig.suptitle('Comparitive Performance of Inception Models on various Dropouts', fontsize=20)\n",
    "fig.set_figwidth(21)\n",
    "fig.set_figheight(9)\n",
    "\n",
    "ax[0].set_title('Validation MSE Loss/Epoch', fontsize=15)\n",
    "ax[1].set_title('Training MSE Loss/Epoch', fontsize=15)\n",
    "\n",
    "for i in range(1,6):\n",
    "    df = pd.read_csv(os.path.join('logs', 'clf_inception_{}.csv'.format(i / 10)))\n",
    "    ax[0].plot(df['val_loss'], label='Dropout - {}'.format(i / 10))\n",
    "    ax[1].plot(df['loss'], label='Dropout - {}'.format(i / 10))\n",
    "    del df\n",
    "\n",
    "ax[0].legend()\n",
    "ax[1].legend()\n",
    "\n",
    "gc.collect()\n",
    "plt.savefig(os.path.join(base_path, 'inception.png'))"
   ]
  },
  {
   "cell_type": "markdown",
   "metadata": {},
   "source": [
    "## Results from Tuning InceptionResNet V2 based Models"
   ]
  },
  {
   "cell_type": "code",
   "execution_count": null,
   "metadata": {},
   "outputs": [],
   "source": [
    "fig, ax = plt.subplots(nrows=1, ncols=2)\n",
    "fig.suptitle('Comparitive Performance of InceptionResnet Models on various Dropouts', fontsize=20)\n",
    "fig.set_figwidth(21)\n",
    "fig.set_figheight(9)\n",
    "\n",
    "ax[0].set_title('Validation MSE Loss/Epoch', fontsize=15)\n",
    "ax[1].set_title('Training MSE Loss/Epoch', fontsize=15)\n",
    "\n",
    "for i in range(1,6):\n",
    "    df = pd.read_csv(os.path.join('logs', 'clf_inceptionresnet_{}.csv'.format(i / 10)))\n",
    "    ax[0].plot(df['val_loss'], label='Dropout - {}'.format(i / 10))\n",
    "    ax[1].plot(df['loss'], label='Dropout - {}'.format(i / 10))\n",
    "    del df\n",
    "\n",
    "ax[0].legend()\n",
    "ax[1].legend()\n",
    "\n",
    "gc.collect()\n",
    "plt.savefig(os.path.join(base_path, 'inceptionresnet.png'))"
   ]
  },
  {
   "cell_type": "markdown",
   "metadata": {},
   "source": [
    "## Results from Tuning DenseNet 121 based Models"
   ]
  },
  {
   "cell_type": "code",
   "execution_count": null,
   "metadata": {},
   "outputs": [],
   "source": [
    "fig, ax = plt.subplots(nrows=1, ncols=2)\n",
    "fig.suptitle('Comparitive Performance of DenseNet Models on various Dropouts', fontsize=20)\n",
    "fig.set_figwidth(21)\n",
    "fig.set_figheight(9)\n",
    "\n",
    "ax[0].set_title('Validation MSE Loss/Epoch', fontsize=15)\n",
    "ax[1].set_title('Training MSE Loss/Epoch', fontsize=15)\n",
    "\n",
    "for i in range(1,6):\n",
    "    df = pd.read_csv(os.path.join('logs', 'clf_densenet_{}.csv'.format(i / 10)))\n",
    "    ax[0].plot(df['val_loss'], label='Dropout - {}'.format(i / 10))\n",
    "    ax[1].plot(df['loss'], label='Dropout - {}'.format(i / 10))\n",
    "    del df\n",
    "\n",
    "ax[0].legend()\n",
    "ax[1].legend()\n",
    "\n",
    "gc.collect()\n",
    "plt.savefig(os.path.join(base_path, 'densenet.png'))"
   ]
  },
  {
   "cell_type": "markdown",
   "metadata": {},
   "source": [
    "## Results from Tuning Xception based Models"
   ]
  },
  {
   "cell_type": "code",
   "execution_count": null,
   "metadata": {},
   "outputs": [],
   "source": [
    "fig, ax = plt.subplots(nrows=1, ncols=2)\n",
    "fig.suptitle('Comparitive Performance of Xception Models on various Dropouts', fontsize=20)\n",
    "fig.set_figwidth(21)\n",
    "fig.set_figheight(9)\n",
    "\n",
    "ax[0].set_title('Validation MSE Loss/Epoch', fontsize=15)\n",
    "ax[1].set_title('Training MSE Loss/Epoch', fontsize=15)\n",
    "\n",
    "for i in range(1,6):\n",
    "    df = pd.read_csv(os.path.join('logs', 'clf_xception_{}.csv'.format(i / 10)))\n",
    "    ax[0].plot(df['val_loss'], label='Dropout - {}'.format(i / 10))\n",
    "    ax[1].plot(df['loss'], label='Dropout - {}'.format(i / 10))\n",
    "    del df\n",
    "\n",
    "ax[0].legend()\n",
    "ax[1].legend()\n",
    "\n",
    "gc.collect()\n",
    "plt.savefig(os.path.join(base_path, 'xception.png'))"
   ]
  },
  {
   "cell_type": "markdown",
   "metadata": {},
   "source": [
    "## Results from Tuning VGG 19 based Models"
   ]
  },
  {
   "cell_type": "code",
   "execution_count": null,
   "metadata": {},
   "outputs": [],
   "source": [
    "fig, ax = plt.subplots(nrows=1, ncols=2)\n",
    "fig.suptitle('Comparitive Performance of VGG Models on various Dropouts', fontsize=20)\n",
    "fig.set_figwidth(21)\n",
    "fig.set_figheight(9)\n",
    "\n",
    "ax[0].set_title('Validation MSE Loss/Epoch', fontsize=15)\n",
    "ax[1].set_title('Training MSE Loss/Epoch', fontsize=15)\n",
    "\n",
    "for i in range(1,6):\n",
    "    df = pd.read_csv(os.path.join('logs', 'clf_vgg_{}.csv'.format(i / 10)))\n",
    "    ax[0].plot(df['val_loss'], label='Dropout - {}'.format(i / 10))\n",
    "    ax[1].plot(df['loss'], label='Dropout - {}'.format(i / 10))\n",
    "    del df\n",
    "\n",
    "ax[0].legend()\n",
    "ax[1].legend()\n",
    "\n",
    "gc.collect()\n",
    "plt.savefig(os.path.join(base_path, 'vgg.png'))"
   ]
  }
 ],
 "metadata": {
  "kernelspec": {
   "display_name": "Python 3",
   "language": "python",
   "name": "python3"
  },
  "language_info": {
   "codemirror_mode": {
    "name": "ipython",
    "version": 3
   },
   "file_extension": ".py",
   "mimetype": "text/x-python",
   "name": "python",
   "nbconvert_exporter": "python",
   "pygments_lexer": "ipython3",
   "version": "3.6.8"
  }
 },
 "nbformat": 4,
 "nbformat_minor": 2
}
