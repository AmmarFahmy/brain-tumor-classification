{
 "cells": [
  {
   "cell_type": "markdown",
   "metadata": {},
   "source": [
    "# Data Exploration"
   ]
  },
  {
   "cell_type": "markdown",
   "metadata": {},
   "source": [
    "## Import Libraries"
   ]
  },
  {
   "cell_type": "code",
   "execution_count": 1,
   "metadata": {},
   "outputs": [],
   "source": [
    "from imageio import mimwrite, imwrite\n",
    "from skimage.transform import resize\n",
    "import matplotlib.pyplot as plt\n",
    "import nibabel as nib\n",
    "import pydicom as pdc\n",
    "import numpy as np\n",
    "import math\n",
    "import sys\n",
    "import os"
   ]
  },
  {
   "cell_type": "code",
   "execution_count": 2,
   "metadata": {},
   "outputs": [],
   "source": [
    "%matplotlib inline"
   ]
  },
  {
   "cell_type": "markdown",
   "metadata": {},
   "source": [
    "## Example of NIFTII format"
   ]
  },
  {
   "cell_type": "code",
   "execution_count": 3,
   "metadata": {},
   "outputs": [],
   "source": [
    "nii_path = os.path.join('source', 'Task01_BrainTumour')\n",
    "nii_path = os.path.join(nii_path, 'imagesTr')\n",
    "data = nib.load(os.path.join(nii_path, 'BRATS_001.nii.gz'))"
   ]
  },
  {
   "cell_type": "code",
   "execution_count": 4,
   "metadata": {},
   "outputs": [
    {
     "name": "stderr",
     "output_type": "stream",
     "text": [
      "/Users/achauhan/anaconda3/envs/tensorflow/lib/python3.6/site-packages/skimage/transform/_warps.py:110: UserWarning: Anti-aliasing will be enabled by default in skimage 0.15 to avoid aliasing artifacts when down-sampling images.\n",
      "  warn(\"Anti-aliasing will be enabled by default in skimage 0.15 to \"\n"
     ]
    }
   ],
   "source": [
    "img = data.get_fdata()[:,:,:,3]\n",
    "img = resize(img, (256, 256), mode='constant', clip=True, preserve_range=True)\n",
    "img = (img - img.mean())/img.std()\n",
    "img = 255 * (img - img.min())/(img.max() - img.min())"
   ]
  },
  {
   "cell_type": "code",
   "execution_count": 5,
   "metadata": {},
   "outputs": [],
   "source": [
    "mimwrite(os.path.join('docs', 'nii_example.gif'), img.transpose((2,0,1)).astype('uint8')[10:140,:,:])"
   ]
  },
  {
   "cell_type": "markdown",
   "metadata": {},
   "source": [
    "![nii_example](docs/nii_example.gif)"
   ]
  },
  {
   "cell_type": "markdown",
   "metadata": {},
   "source": [
    "## Example of DICOM format"
   ]
  },
  {
   "cell_type": "code",
   "execution_count": 6,
   "metadata": {},
   "outputs": [],
   "source": [
    "dicom_path = os.path.join(os.path.join('source', 'DIPG'), 'Stanford')\n",
    "dicom_path = os.path.join(dicom_path, os.path.join('ST_DIPG_T2_Axial', 'no_roi'))"
   ]
  },
  {
   "cell_type": "code",
   "execution_count": 7,
   "metadata": {},
   "outputs": [],
   "source": [
    "data_name = 'ST_DIPG_F_{:04d}-01-IM-0548'.format(60)\n",
    "img = []\n",
    "f = lambda x: x.startswith(data_name) and (len(x.split('-')) == 5 or (len(x.split('-')) == 6 and x.split('-')[-1]=='0001.dcm'))\n",
    "for _, _, files in os.walk(dicom_path):\n",
    "    files = sorted(filter(f, files))\n",
    "    for filename in files:\n",
    "        data = pdc.dcmread(os.path.join(dicom_path, filename))\n",
    "        arr = data.pixel_array\n",
    "        dim1 = max(arr.shape) - arr.shape[0]\n",
    "        dim2 = max(arr.shape) - arr.shape[1]\n",
    "        pad = np.pad(arr, ((math.ceil(dim1/2.0),math.floor(dim1/2.0)),\n",
    "                           (math.ceil(dim2/2.0),math.floor(dim2/2.0))),\n",
    "                     mode='constant', constant_values=0)\n",
    "        img.append(resize(pad, (256, 256), mode='constant',\n",
    "                          clip=True, preserve_range=True).tolist())"
   ]
  },
  {
   "cell_type": "code",
   "execution_count": 8,
   "metadata": {},
   "outputs": [],
   "source": [
    "img = np.asarray(img)\n",
    "img = (img - img.mean())/img.std()\n",
    "img = 255 * (img - img.min())/(img.max() - img.min())"
   ]
  },
  {
   "cell_type": "code",
   "execution_count": 9,
   "metadata": {},
   "outputs": [],
   "source": [
    "mimwrite(os.path.join('docs', 'dicom_example.gif'), np.rot90(img.astype('uint8'), axes=(2,1)))"
   ]
  },
  {
   "cell_type": "markdown",
   "metadata": {},
   "source": [
    "![dicom_example](docs/dicom_example.gif)"
   ]
  },
  {
   "cell_type": "markdown",
   "metadata": {},
   "source": [
    "## Example of NPZ format (from Stanford Healthy Brains)"
   ]
  },
  {
   "cell_type": "code",
   "execution_count": 10,
   "metadata": {},
   "outputs": [],
   "source": [
    "npz_path = os.path.join('source', 'Normal')\n",
    "arr = np.load(os.path.join(npz_path, '110M_67.npz'))['T2 ax']\n",
    "dim1 = max(arr.shape[:2]) - arr.shape[0]\n",
    "dim2 = max(arr.shape[:2]) - arr.shape[1]\n",
    "pad = np.pad(arr, ((math.ceil(dim1/2.0),math.floor(dim1/2.0)),\n",
    "                   (math.ceil(dim2/2.0),math.floor(dim2/2.0)), (0, 0)),\n",
    "             mode='constant', constant_values=0)\n",
    "img = resize(pad, (256, 256), mode='constant', clip=True, preserve_range=True)\n",
    "img = img.transpose((2,0,1))"
   ]
  },
  {
   "cell_type": "code",
   "execution_count": 11,
   "metadata": {},
   "outputs": [],
   "source": [
    "img = (img - img.mean())/img.std()\n",
    "img = 255 * (img - img.min())/(img.max() - img.min())"
   ]
  },
  {
   "cell_type": "code",
   "execution_count": 12,
   "metadata": {},
   "outputs": [],
   "source": [
    "mimwrite(os.path.join('docs', 'npz_example.gif'), np.rot90(img.astype('uint8'), axes=(2,1)))"
   ]
  },
  {
   "cell_type": "markdown",
   "metadata": {},
   "source": [
    "![npz_example](docs/npz_example.gif)"
   ]
  }
 ],
 "metadata": {
  "kernelspec": {
   "display_name": "Python 3",
   "language": "python",
   "name": "python3"
  },
  "language_info": {
   "codemirror_mode": {
    "name": "ipython",
    "version": 3
   },
   "file_extension": ".py",
   "mimetype": "text/x-python",
   "name": "python",
   "nbconvert_exporter": "python",
   "pygments_lexer": "ipython3",
   "version": "3.6.8"
  }
 },
 "nbformat": 4,
 "nbformat_minor": 2
}
