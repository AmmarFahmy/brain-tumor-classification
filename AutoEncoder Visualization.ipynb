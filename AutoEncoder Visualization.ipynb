{
 "cells": [
  {
   "cell_type": "markdown",
   "metadata": {},
   "source": [
    "# Visualizing Results from AutoEncoder Training"
   ]
  },
  {
   "cell_type": "markdown",
   "metadata": {},
   "source": [
    "## Libraries"
   ]
  },
  {
   "cell_type": "code",
   "execution_count": null,
   "metadata": {},
   "outputs": [],
   "source": [
    "from keras.models import load_model\n",
    "from keras import backend as K\n",
    "from imageio import mimwrite\n",
    "\n",
    "import matplotlib.pyplot as plt\n",
    "import pandas as pd\n",
    "import numpy as np\n",
    "import json\n",
    "import os\n",
    "import gc\n",
    "\n",
    "%matplotlib inline"
   ]
  },
  {
   "cell_type": "markdown",
   "metadata": {},
   "source": [
    "## Create Directory if not exists"
   ]
  },
  {
   "cell_type": "code",
   "execution_count": null,
   "metadata": {},
   "outputs": [],
   "source": [
    "base_path = os.path.join('docs', 'autoencoder')\n",
    "if not os.path.exists(base_path):\n",
    "    os.mkdir(base_path)"
   ]
  },
  {
   "cell_type": "markdown",
   "metadata": {},
   "source": [
    "## Visualizing Training Results"
   ]
  },
  {
   "cell_type": "code",
   "execution_count": null,
   "metadata": {},
   "outputs": [],
   "source": [
    "fig, ax = plt.subplots(nrows=2, ncols=3)\n",
    "fig.suptitle('Training Results', fontsize=20)\n",
    "fig.set_figwidth(16)\n",
    "fig.set_figheight(9)\n",
    "\n",
    "ax[0, 0].set_title('MSE Loss/Epoch with ResNet 50')\n",
    "df = pd.read_csv('logs/ae_resnet.csv')\n",
    "ax[0, 0].plot(df['loss'], label='Train')\n",
    "ax[0, 0].plot(df['val_loss'], label='Validation')\n",
    "del df\n",
    "ax[0, 0].legend()\n",
    "\n",
    "ax[0, 1].set_title('MSE Loss/Epoch with Inception V3')\n",
    "df = pd.read_csv('logs/ae_inception.csv')\n",
    "ax[0, 1].plot(df['loss'], label='Train')\n",
    "ax[0, 1].plot(df['val_loss'], label='Validation')\n",
    "del df\n",
    "ax[0, 1].legend()\n",
    "\n",
    "ax[0, 2].set_title('MSE Loss/Epoch with InceptionResnet V2')\n",
    "df = pd.read_csv('logs/ae_inceptionresnet.csv')\n",
    "ax[0, 2].plot(df['loss'], label='Train')\n",
    "ax[0, 2].plot(df['val_loss'], label='Validation')\n",
    "del df\n",
    "ax[0, 2].legend()\n",
    "\n",
    "ax[1, 0].set_title('MSE Loss/Epoch with Xception')\n",
    "df = pd.read_csv('logs/ae_xception.csv')\n",
    "ax[1, 0].plot(df['loss'], label='Train')\n",
    "ax[1, 0].plot(df['val_loss'], label='Validation')\n",
    "del df\n",
    "ax[1, 0].legend()\n",
    "\n",
    "ax[1, 1].set_title('MSE Loss/Epoch with DenseNet 121')\n",
    "df = pd.read_csv('logs/ae_densenet.csv')\n",
    "ax[1, 1].plot(df['loss'], label='Train')\n",
    "ax[1, 1].plot(df['val_loss'], label='Validation')\n",
    "del df\n",
    "ax[1, 1].legend()\n",
    "\n",
    "ax[1, 2].set_title('MSE Loss/Epoch with VGG 19')\n",
    "df = pd.read_csv('logs/ae_vgg.csv')\n",
    "ax[1, 2].plot(df['loss'], label='Train')\n",
    "ax[1, 2].plot(df['val_loss'], label='Validation')\n",
    "del df\n",
    "ax[1, 2].legend()\n",
    "\n",
    "gc.collect()\n",
    "plt.savefig(os.path.join(base_path, 'results.png'))\n",
    "plt.show()"
   ]
  },
  {
   "cell_type": "markdown",
   "metadata": {},
   "source": [
    "![Results](docs/autoencoder/results.png)"
   ]
  },
  {
   "cell_type": "code",
   "execution_count": null,
   "metadata": {},
   "outputs": [],
   "source": [
    "fig, ax = plt.subplots(nrows=1, ncols=2)\n",
    "fig.suptitle('Comparitive Performance', fontsize=20)\n",
    "fig.set_figwidth(21)\n",
    "fig.set_figheight(9)\n",
    "\n",
    "ax[0].set_title('Validation MSE Loss/Epoch', fontsize=15)\n",
    "ax[1].set_title('Training MSE Loss/Epoch', fontsize=15)\n",
    "\n",
    "df = pd.read_csv('logs/ae_resnet.csv')\n",
    "ax[0].plot(df['val_loss'], label='ResNet 50')\n",
    "ax[1].plot(df['loss'], label='ResNet 50')\n",
    "del df\n",
    "\n",
    "df = pd.read_csv('logs/ae_inceptionresnet.csv')\n",
    "ax[0].plot(df['val_loss'], label='InceptionResNet V2')\n",
    "ax[1].plot(df['loss'], label='InceptionResNet V2')\n",
    "del df\n",
    "\n",
    "df = pd.read_csv('logs/ae_inception.csv')\n",
    "ax[0].plot(df['val_loss'], label='Inception V3')\n",
    "ax[1].plot(df['loss'], label='Inception V3')\n",
    "del df\n",
    "\n",
    "df = pd.read_csv('logs/ae_xception.csv')\n",
    "ax[0].plot(df['val_loss'], label='Xception')\n",
    "ax[1].plot(df['loss'], label='Xception')\n",
    "del df\n",
    "\n",
    "df = pd.read_csv('logs/ae_densenet.csv')\n",
    "ax[0].plot(df['val_loss'], label='DenseNet 121')\n",
    "ax[1].plot(df['loss'], label='DenseNet 121')\n",
    "del df\n",
    "\n",
    "df = pd.read_csv('logs/ae_vgg.csv')\n",
    "ax[0].plot(df['val_loss'], label='VGG 19')\n",
    "ax[1].plot(df['loss'], label='VGG 19')\n",
    "del df\n",
    "\n",
    "ax[0].legend()\n",
    "ax[1].legend()\n",
    "\n",
    "gc.collect()\n",
    "plt.savefig(os.path.join(base_path, 'performance.png'))\n",
    "plt.show()"
   ]
  },
  {
   "cell_type": "markdown",
   "metadata": {},
   "source": [
    "![Performance](docs/autoencoder/performance.png)"
   ]
  },
  {
   "cell_type": "markdown",
   "metadata": {},
   "source": [
    "## Examples"
   ]
  },
  {
   "cell_type": "code",
   "execution_count": null,
   "metadata": {},
   "outputs": [],
   "source": [
    "def build_autoencoder(key):\n",
    "    preprocess = None\n",
    "    model = None\n",
    "    model_d = {'densenet': 'dn121', 'inceptionresnet': 'irv2',\n",
    "               'inception': 'iv3', 'resnet': 'r50',\n",
    "               'vgg': 'vgg', 'xception': 'x'}\n",
    "    if key == 'densenet':\n",
    "        from models.densenet import get_autoencoder, get_preprocess\n",
    "    elif key == 'inceptionresnet':\n",
    "        from models.inceptionresnet import get_autoencoder, get_preprocess\n",
    "    elif key == 'inception':\n",
    "        from models.inception import get_autoencoder, get_preprocess\n",
    "    elif key == 'resnet':\n",
    "        from models.resnet import get_autoencoder, get_preprocess\n",
    "    elif key == 'vgg':\n",
    "        from models.vgg import get_autoencoder, get_preprocess\n",
    "    else:\n",
    "        from models.xception import get_autoencoder, get_preprocess\n",
    "\n",
    "    model_path = os.path.join('weights', 'ae_{}.h5'.format(key))\n",
    "    model = load_model(model_path)\n",
    "    return (model, get_preprocess())"
   ]
  },
  {
   "cell_type": "markdown",
   "metadata": {},
   "source": [
    "## Sample Image"
   ]
  },
  {
   "cell_type": "code",
   "execution_count": null,
   "metadata": {},
   "outputs": [],
   "source": [
    "path = os.path.join('data', 'autoencode')\n",
    "path = os.path.join(path, 'valid')\n",
    "normal_path = os.path.join(path, '0001.npz')\n",
    "cancer_path = os.path.join(path, '0002.npz')\n",
    "normal = np.load(normal_path)['data']\n",
    "cancer = np.load(cancer_path)['data']\n",
    "\n",
    "meta_file = open(os.path.join('meta', 'ae_meta.json'), 'r')\n",
    "min_max = json.load(meta_file)\n",
    "meta_file.close()\n",
    "\n",
    "mimwrite(os.path.join(base_path, 'normal.gif'),\n",
    "         ((normal - normal.min()) * 255 / normal.ptp()).astype('uint8'))\n",
    "\n",
    "mimwrite(os.path.join(base_path, 'cancer.gif'),\n",
    "         ((cancer - cancer.min()) * 255 / cancer.ptp()).astype('uint8'))\n",
    "\n",
    "normal = (normal - min_max['min']) * 255.0 / (min_max['max'] - min_max['min'])\n",
    "normal = np.expand_dims(normal, axis=-1)\n",
    "normal = np.repeat(normal, 3, axis=-1)\n",
    "\n",
    "cancer = (cancer - min_max['min']) * 255.0 / (min_max['max'] - min_max['min'])\n",
    "cancer = np.expand_dims(cancer, axis=-1)\n",
    "cancer = np.repeat(cancer, 3, axis=-1)"
   ]
  },
  {
   "cell_type": "markdown",
   "metadata": {},
   "source": [
    "#### Images\n",
    "| Cancer Patient | Normal Patient |\n",
    "| :---: | :---: |\n",
    "| ![Cancer](docs/autoencoder/cancer.gif) | ![Normal](docs/autoencoder/normal.gif) |"
   ]
  },
  {
   "cell_type": "markdown",
   "metadata": {},
   "source": [
    "### ResNet 50"
   ]
  },
  {
   "cell_type": "code",
   "execution_count": null,
   "metadata": {},
   "outputs": [],
   "source": [
    "K.clear_session()\n",
    "model, preprocess = build_autoencoder('resnet')\n",
    "pred_normal = model.predict(preprocess(normal))[:,:,:,0]\n",
    "pred_cancer = model.predict(preprocess(cancer))[:,:,:,0]\n",
    "\n",
    "mimwrite(os.path.join(base_path, 'normal-resnet.gif'),\n",
    "         ((pred_normal - pred_normal.min()) * 255 / pred_normal.ptp()).astype('uint8'))\n",
    "    \n",
    "mimwrite(os.path.join(base_path, 'cancer-resnet.gif'),\n",
    "         ((pred_cancer - pred_cancer.min()) * 255 / pred_cancer.ptp()).astype('uint8'))\n",
    "\n",
    "del model, preprocess"
   ]
  },
  {
   "cell_type": "markdown",
   "metadata": {},
   "source": [
    "#### Images\n",
    "| Cancer Patient | Normal Patient |\n",
    "| :---: | :---: |\n",
    "| ![Cancer](docs/autoencoder/cancer-resnet.gif) | ![Normal](docs/autoencoder/normal-resnet.gif) |"
   ]
  },
  {
   "cell_type": "markdown",
   "metadata": {},
   "source": [
    "### VGG 19"
   ]
  },
  {
   "cell_type": "code",
   "execution_count": null,
   "metadata": {},
   "outputs": [],
   "source": [
    "K.clear_session()\n",
    "model, preprocess = build_autoencoder('vgg')\n",
    "pred_normal = model.predict(preprocess(normal))[:,:,:,0]\n",
    "pred_cancer = model.predict(preprocess(cancer))[:,:,:,0]\n",
    "\n",
    "mimwrite(os.path.join(base_path, 'normal-vgg.gif'),\n",
    "         ((pred_normal - pred_normal.min()) * 255 / pred_normal.ptp()).astype('uint8'))\n",
    "    \n",
    "mimwrite(os.path.join(base_path, 'cancer-vgg.gif'),\n",
    "         ((pred_cancer - pred_cancer.min()) * 255 / pred_cancer.ptp()).astype('uint8'))\n",
    "\n",
    "del model, preprocess"
   ]
  },
  {
   "cell_type": "markdown",
   "metadata": {},
   "source": [
    "#### Images\n",
    "| Cancer Patient | Normal Patient |\n",
    "| :---: | :---: |\n",
    "| ![Cancer](docs/autoencoder/cancer-vgg.gif) | ![Normal](docs/autoencoder/normal-vgg.gif) |"
   ]
  },
  {
   "cell_type": "markdown",
   "metadata": {},
   "source": [
    "### Inception V3"
   ]
  },
  {
   "cell_type": "code",
   "execution_count": null,
   "metadata": {},
   "outputs": [],
   "source": [
    "K.clear_session()\n",
    "model, preprocess = build_autoencoder('inception')\n",
    "pred_normal = model.predict(preprocess(normal))[:,:,:,0]\n",
    "pred_cancer = model.predict(preprocess(cancer))[:,:,:,0]\n",
    "\n",
    "mimwrite(os.path.join(base_path, 'normal-inception.gif'),\n",
    "         ((pred_normal - pred_normal.min()) * 255 / pred_normal.ptp()).astype('uint8'))\n",
    "    \n",
    "mimwrite(os.path.join(base_path, 'cancer-inception.gif'),\n",
    "         ((pred_cancer - pred_cancer.min()) * 255 / pred_cancer.ptp()).astype('uint8'))\n",
    "\n",
    "del model, preprocess"
   ]
  },
  {
   "cell_type": "markdown",
   "metadata": {},
   "source": [
    "#### Images\n",
    "| Cancer Patient | Normal Patient |\n",
    "| :---: | :---: |\n",
    "| ![Cancer](docs/autoencoder/cancer-inception.gif) | ![Normal](docs/autoencoder/normal-inception.gif) |"
   ]
  },
  {
   "cell_type": "markdown",
   "metadata": {},
   "source": [
    "### InceptionResNet V2"
   ]
  },
  {
   "cell_type": "code",
   "execution_count": null,
   "metadata": {},
   "outputs": [],
   "source": [
    "K.clear_session()\n",
    "model, preprocess = build_autoencoder('inceptionresnet')\n",
    "pred_normal = model.predict(preprocess(normal))[:,:,:,0]\n",
    "pred_cancer = model.predict(preprocess(cancer))[:,:,:,0]\n",
    "\n",
    "mimwrite(os.path.join(base_path, 'normal-inceptionresnet.gif'),\n",
    "         ((pred_normal - pred_normal.min()) * 255 / pred_normal.ptp()).astype('uint8'))\n",
    "    \n",
    "mimwrite(os.path.join(base_path, 'cancer-inceptionresnet.gif'),\n",
    "         ((pred_cancer - pred_cancer.min()) * 255 / pred_cancer.ptp()).astype('uint8'))\n",
    "\n",
    "del model, preprocess"
   ]
  },
  {
   "cell_type": "markdown",
   "metadata": {},
   "source": [
    "#### Images\n",
    "| Cancer Patient | Normal Patient |\n",
    "| :---: | :---: |\n",
    "| ![Cancer](docs/autoencoder/cancer-inceptionresnet.gif) | ![Normal](docs/autoencoder/normal-inceptionresnet.gif) |"
   ]
  },
  {
   "cell_type": "markdown",
   "metadata": {},
   "source": [
    "### DenseNet 121"
   ]
  },
  {
   "cell_type": "code",
   "execution_count": null,
   "metadata": {},
   "outputs": [],
   "source": [
    "K.clear_session()\n",
    "model, preprocess = build_autoencoder('densenet')\n",
    "pred_normal = model.predict(preprocess(normal))[:,:,:,0]\n",
    "pred_cancer = model.predict(preprocess(cancer))[:,:,:,0]\n",
    "\n",
    "mimwrite(os.path.join(base_path, 'normal-densenet.gif'),\n",
    "         ((pred_normal - pred_normal.min()) * 255 / pred_normal.ptp()).astype('uint8'))\n",
    "    \n",
    "mimwrite(os.path.join(base_path, 'cancer-densenet.gif'),\n",
    "         ((pred_cancer - pred_cancer.min()) * 255 / pred_cancer.ptp()).astype('uint8'))\n",
    "\n",
    "del model, preprocess"
   ]
  },
  {
   "cell_type": "markdown",
   "metadata": {},
   "source": [
    "#### Images\n",
    "| Cancer Patient | Normal Patient |\n",
    "| :---: | :---: |\n",
    "| ![Cancer](docs/autoencoder/cancer-densenet.gif) | ![Normal](docs/autoencoder/normal-densenet.gif) |"
   ]
  },
  {
   "cell_type": "markdown",
   "metadata": {},
   "source": [
    "### Xception"
   ]
  },
  {
   "cell_type": "code",
   "execution_count": null,
   "metadata": {},
   "outputs": [],
   "source": [
    "K.clear_session()\n",
    "model, preprocess = build_autoencoder('xception')\n",
    "pred_normal = model.predict(preprocess(normal))[:,:,:,0]\n",
    "pred_cancer = model.predict(preprocess(cancer))[:,:,:,0]\n",
    "\n",
    "mimwrite(os.path.join(base_path, 'normal-xception.gif'),\n",
    "         ((pred_normal - pred_normal.min()) * 255 / pred_normal.ptp()).astype('uint8'))\n",
    "    \n",
    "mimwrite(os.path.join(base_path, 'cancer-xception.gif'),\n",
    "         ((pred_cancer - pred_cancer.min()) * 255 / pred_cancer.ptp()).astype('uint8'))\n",
    "\n",
    "del model, preprocess"
   ]
  },
  {
   "cell_type": "markdown",
   "metadata": {},
   "source": [
    "#### Images\n",
    "| Cancer Patient | Normal Patient |\n",
    "| :---: | :---: |\n",
    "| ![Cancer](docs/autoencoder/cancer-xception.gif) | ![Normal](docs/autoencoder/normal-xception.gif) |"
   ]
  }
 ],
 "metadata": {
  "kernelspec": {
   "display_name": "Python 3",
   "language": "python",
   "name": "python3"
  },
  "language_info": {
   "codemirror_mode": {
    "name": "ipython",
    "version": 3
   },
   "file_extension": ".py",
   "mimetype": "text/x-python",
   "name": "python",
   "nbconvert_exporter": "python",
   "pygments_lexer": "ipython3",
   "version": "3.6.8"
  }
 },
 "nbformat": 4,
 "nbformat_minor": 2
}
