{
 "cells": [
  {
   "cell_type": "markdown",
   "metadata": {},
   "source": [
    "# Visualizing Results from Paraclassifier Training"
   ]
  },
  {
   "cell_type": "markdown",
   "metadata": {},
   "source": [
    "## Libraries"
   ]
  },
  {
   "cell_type": "code",
   "execution_count": null,
   "metadata": {},
   "outputs": [],
   "source": [
    "import matplotlib.pyplot as plt\n",
    "import pandas as pd\n",
    "import numpy as np\n",
    "import json\n",
    "import os\n",
    "import gc\n",
    "\n",
    "%matplotlib inline"
   ]
  },
  {
   "cell_type": "markdown",
   "metadata": {},
   "source": [
    "## Create Directory if not exists"
   ]
  },
  {
   "cell_type": "code",
   "execution_count": null,
   "metadata": {},
   "outputs": [],
   "source": [
    "base_path = os.path.join('docs', 'paraclassifier')\n",
    "if not os.path.exists(base_path):\n",
    "    os.mkdir(base_path)"
   ]
  },
  {
   "cell_type": "markdown",
   "metadata": {},
   "source": [
    "## Results from Training"
   ]
  },
  {
   "cell_type": "code",
   "execution_count": null,
   "metadata": {},
   "outputs": [],
   "source": [
    "fig, ax = plt.subplots(nrows=2, ncols=3)\n",
    "fig.suptitle('Training Results', fontsize=20)\n",
    "fig.set_figwidth(16)\n",
    "fig.set_figheight(9)\n",
    "\n",
    "ax[0, 0].set_title('MSE Loss/Epoch with ResNet 50')\n",
    "df = pd.read_csv(os.path.join('logs', 'para_resnet.csv'))\n",
    "ax[0, 0].plot(df['loss'], label='Train')\n",
    "ax[0, 0].plot(df['val_loss'], label='Validation')\n",
    "del df\n",
    "ax[0, 0].legend()\n",
    "\n",
    "ax[0, 1].set_title('MSE Loss/Epoch with Inception V3')\n",
    "df = pd.read_csv(os.path.join('logs', 'para_inception.csv'))\n",
    "ax[0, 1].plot(df['loss'], label='Train')\n",
    "ax[0, 1].plot(df['val_loss'], label='Validation')\n",
    "del df\n",
    "ax[0, 1].legend()\n",
    "\n",
    "ax[0, 2].set_title('MSE Loss/Epoch with InceptionResnet V2')\n",
    "df = pd.read_csv(os.path.join('logs', 'para_inceptionresnet.csv'))\n",
    "ax[0, 2].plot(df['loss'], label='Train')\n",
    "ax[0, 2].plot(df['val_loss'], label='Validation')\n",
    "del df\n",
    "ax[0, 2].legend()\n",
    "\n",
    "ax[1, 0].set_title('MSE Loss/Epoch with Xception')\n",
    "df = pd.read_csv(os.path.join('logs', 'para_xception.csv'))\n",
    "ax[1, 0].plot(df['loss'], label='Train')\n",
    "ax[1, 0].plot(df['val_loss'], label='Validation')\n",
    "del df\n",
    "ax[1, 0].legend()\n",
    "\n",
    "ax[1, 1].set_title('MSE Loss/Epoch with DenseNet 121')\n",
    "df = pd.read_csv(os.path.join('logs', 'para_densenet.csv'))\n",
    "ax[1, 1].plot(df['loss'], label='Train')\n",
    "ax[1, 1].plot(df['val_loss'], label='Validation')\n",
    "del df\n",
    "ax[1, 1].legend()\n",
    "\n",
    "ax[1, 2].set_title('MSE Loss/Epoch with VGG 19')\n",
    "df = pd.read_csv(os.path.join('logs', 'para_vgg.csv'))\n",
    "ax[1, 2].plot(df['loss'], label='Train')\n",
    "ax[1, 2].plot(df['val_loss'], label='Validation')\n",
    "del df\n",
    "ax[1, 2].legend()\n",
    "\n",
    "gc.collect()\n",
    "plt.savefig(os.path.join(base_path, 'results.png'))"
   ]
  },
  {
   "cell_type": "code",
   "execution_count": null,
   "metadata": {},
   "outputs": [],
   "source": [
    "fig, ax = plt.subplots(nrows=1, ncols=2)\n",
    "fig.suptitle('Comparitive Performance', fontsize=20)\n",
    "fig.set_figwidth(21)\n",
    "fig.set_figheight(9)\n",
    "\n",
    "ax[0].set_title('Validation MSE Loss/Epoch', fontsize=15)\n",
    "ax[1].set_title('Training MSE Loss/Epoch', fontsize=15)\n",
    "\n",
    "df = pd.read_csv(os.path.join('logs', 'para_resnet.csv'))\n",
    "ax[0].plot(df['val_loss'], label='ResNet 50')\n",
    "ax[1].plot(df['loss'], label='ResNet 50')\n",
    "del df\n",
    "\n",
    "df = pd.read_csv(os.path.join('logs', 'para_inceptionresnet.csv'))\n",
    "ax[0].plot(df['val_loss'], label='InceptionResNet V2')\n",
    "ax[1].plot(df['loss'], label='InceptionResNet V2')\n",
    "del df\n",
    "\n",
    "df = pd.read_csv(os.path.join('logs', 'para_inception.csv'))\n",
    "ax[0].plot(df['val_loss'], label='Inception V3')\n",
    "ax[1].plot(df['loss'], label='Inception V3')\n",
    "del df\n",
    "\n",
    "df = pd.read_csv(os.path.join('logs', 'para_xception.csv'))\n",
    "ax[0].plot(df['val_loss'], label='Xception')\n",
    "ax[1].plot(df['loss'], label='Xception')\n",
    "del df\n",
    "\n",
    "df = pd.read_csv(os.path.join('logs', 'para_densenet.csv'))\n",
    "ax[0].plot(df['val_loss'], label='DenseNet 121')\n",
    "ax[1].plot(df['loss'], label='DenseNet 121')\n",
    "del df\n",
    "\n",
    "df = pd.read_csv(os.path.join('logs', 'para_vgg.csv'))\n",
    "ax[0].plot(df['val_loss'], label='VGG 19')\n",
    "ax[1].plot(df['loss'], label='VGG 19')\n",
    "del df\n",
    "\n",
    "ax[0].legend()\n",
    "ax[1].legend()\n",
    "\n",
    "gc.collect()\n",
    "plt.savefig(os.path.join(base_path, 'performance.png'))"
   ]
  }
 ],
 "metadata": {
  "kernelspec": {
   "display_name": "Python 3",
   "language": "python",
   "name": "python3"
  },
  "language_info": {
   "codemirror_mode": {
    "name": "ipython",
    "version": 3
   },
   "file_extension": ".py",
   "mimetype": "text/x-python",
   "name": "python",
   "nbconvert_exporter": "python",
   "pygments_lexer": "ipython3",
   "version": "3.6.8"
  }
 },
 "nbformat": 4,
 "nbformat_minor": 2
}
