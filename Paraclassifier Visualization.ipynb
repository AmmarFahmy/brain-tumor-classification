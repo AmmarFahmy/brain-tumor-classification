{
 "cells": [
  {
   "cell_type": "markdown",
   "metadata": {},
   "source": [
    "# Visualizing Results from Paraclassifier Training"
   ]
  },
  {
   "cell_type": "markdown",
   "metadata": {},
   "source": [
    "## Libraries"
   ]
  },
  {
   "cell_type": "code",
   "execution_count": null,
   "metadata": {},
   "outputs": [],
   "source": [
    "from generator import ParaclassifierGenerator\n",
    "from keras.models import load_model\n",
    "from keras import backend as K\n",
    "\n",
    "import matplotlib.pyplot as plt\n",
    "import pandas as pd\n",
    "import numpy as np\n",
    "import json\n",
    "import os\n",
    "import gc\n",
    "\n",
    "%matplotlib inline"
   ]
  },
  {
   "cell_type": "markdown",
   "metadata": {},
   "source": [
    "## Create Directory if not exists"
   ]
  },
  {
   "cell_type": "code",
   "execution_count": null,
   "metadata": {},
   "outputs": [],
   "source": [
    "base_path = os.path.join('docs', 'paraclassifier')\n",
    "if not os.path.exists(base_path):\n",
    "    os.mkdir(base_path)"
   ]
  },
  {
   "cell_type": "markdown",
   "metadata": {},
   "source": [
    "## Results from Training"
   ]
  },
  {
   "cell_type": "code",
   "execution_count": null,
   "metadata": {},
   "outputs": [],
   "source": [
    "fig, ax = plt.subplots(nrows=2, ncols=3)\n",
    "fig.suptitle('Training Results', fontsize=20)\n",
    "fig.set_figwidth(16)\n",
    "fig.set_figheight(9)\n",
    "\n",
    "ax[0, 0].set_title('MSE Loss/Epoch with ResNet 50')\n",
    "df = pd.read_csv('logs/para_resnet.csv')\n",
    "ax[0, 0].plot(df['loss'], label='Train')\n",
    "ax[0, 0].plot(df['val_loss'], label='Validation')\n",
    "del df\n",
    "ax[0, 0].legend()\n",
    "\n",
    "ax[0, 1].set_title('MSE Loss/Epoch with Inception V3')\n",
    "df = pd.read_csv('logs/para_inception.csv')\n",
    "ax[0, 1].plot(df['loss'], label='Train')\n",
    "ax[0, 1].plot(df['val_loss'], label='Validation')\n",
    "del df\n",
    "ax[0, 1].legend()\n",
    "\n",
    "ax[0, 2].set_title('MSE Loss/Epoch with InceptionResnet V2')\n",
    "df = pd.read_csv('logs/para_inceptionresnet.csv')\n",
    "ax[0, 2].plot(df['loss'], label='Train')\n",
    "ax[0, 2].plot(df['val_loss'], label='Validation')\n",
    "del df\n",
    "ax[0, 2].legend()\n",
    "\n",
    "ax[1, 0].set_title('MSE Loss/Epoch with Xception')\n",
    "df = pd.read_csv('logs/para_xception.csv')\n",
    "ax[1, 0].plot(df['loss'], label='Train')\n",
    "ax[1, 0].plot(df['val_loss'], label='Validation')\n",
    "del df\n",
    "ax[1, 0].legend()\n",
    "\n",
    "ax[1, 1].set_title('MSE Loss/Epoch with DenseNet 121')\n",
    "df = pd.read_csv('logs/para_densenet.csv')\n",
    "ax[1, 1].plot(df['loss'], label='Train')\n",
    "ax[1, 1].plot(df['val_loss'], label='Validation')\n",
    "del df\n",
    "ax[1, 1].legend()\n",
    "\n",
    "ax[1, 2].set_title('MSE Loss/Epoch with VGG 19')\n",
    "df = pd.read_csv('logs/para_vgg.csv')\n",
    "ax[1, 2].plot(df['loss'], label='Train')\n",
    "ax[1, 2].plot(df['val_loss'], label='Validation')\n",
    "del df\n",
    "ax[1, 2].legend()\n",
    "\n",
    "gc.collect()\n",
    "plt.savefig(os.path.join(base_path, 'results.png'))"
   ]
  },
  {
   "cell_type": "markdown",
   "metadata": {},
   "source": [
    "![Results](docs/paraclassifier/results.png)"
   ]
  },
  {
   "cell_type": "code",
   "execution_count": null,
   "metadata": {},
   "outputs": [],
   "source": [
    "fig, ax = plt.subplots(nrows=1, ncols=2)\n",
    "fig.suptitle('Comparitive Performance', fontsize=20)\n",
    "fig.set_figwidth(21)\n",
    "fig.set_figheight(9)\n",
    "\n",
    "ax[0].set_title('Validation MSE Loss/Epoch', fontsize=15)\n",
    "ax[1].set_title('Training MSE Loss/Epoch', fontsize=15)\n",
    "\n",
    "df = pd.read_csv('logs/para_resnet.csv')\n",
    "ax[0].plot(df['val_loss'], label='ResNet 50')\n",
    "ax[1].plot(df['loss'], label='ResNet 50')\n",
    "del df\n",
    "\n",
    "df = pd.read_csv('logs/para_inceptionresnet.csv')\n",
    "ax[0].plot(df['val_loss'], label='InceptionResNet V2')\n",
    "ax[1].plot(df['loss'], label='InceptionResNet V2')\n",
    "del df\n",
    "\n",
    "df = pd.read_csv('logs/para_inception.csv')\n",
    "ax[0].plot(df['val_loss'], label='Inception V3')\n",
    "ax[1].plot(df['loss'], label='Inception V3')\n",
    "del df\n",
    "\n",
    "df = pd.read_csv('logs/para_xception.csv')\n",
    "ax[0].plot(df['val_loss'], label='Xception')\n",
    "ax[1].plot(df['loss'], label='Xception')\n",
    "del df\n",
    "\n",
    "df = pd.read_csv('logs/para_densenet.csv')\n",
    "ax[0].plot(df['val_loss'], label='DenseNet 121')\n",
    "ax[1].plot(df['loss'], label='DenseNet 121')\n",
    "del df\n",
    "\n",
    "df = pd.read_csv('logs/para_vgg.csv')\n",
    "ax[0].plot(df['val_loss'], label='VGG 19')\n",
    "ax[1].plot(df['loss'], label='VGG 19')\n",
    "del df\n",
    "\n",
    "ax[0].legend()\n",
    "ax[1].legend()\n",
    "\n",
    "gc.collect()\n",
    "plt.savefig(os.path.join(base_path, 'performance.png'))"
   ]
  },
  {
   "cell_type": "markdown",
   "metadata": {},
   "source": [
    "![Performance](docs/paraclassifier/performance.png)"
   ]
  },
  {
   "cell_type": "markdown",
   "metadata": {},
   "source": [
    "## Test Data Set"
   ]
  },
  {
   "cell_type": "code",
   "execution_count": null,
   "metadata": {},
   "outputs": [],
   "source": [
    "results = []\n",
    "test = pd.read_csv(os.path.join('meta', 'para_test.csv')).values.tolist()"
   ]
  },
  {
   "cell_type": "markdown",
   "metadata": {},
   "source": [
    "### Function to fetch Model"
   ]
  },
  {
   "cell_type": "code",
   "execution_count": null,
   "metadata": {},
   "outputs": [],
   "source": [
    "def build_paraclassifier(key):\n",
    "    model = None\n",
    "    model_d = {'densenet': 'dn121', 'inceptionresnet': 'irv2',\n",
    "               'inception': 'iv3', 'resnet': 'r50',\n",
    "               'vgg': 'vgg', 'xception': 'x'}\n",
    "    if key == 'densenet':\n",
    "        from models.densenet import get_paraclassifier\n",
    "    elif key == 'inceptionresnet':\n",
    "        from models.inceptionresnet import get_paraclassifier\n",
    "    elif key == 'inception':\n",
    "        from models.inception import get_paraclassifier\n",
    "    elif key == 'resnet':\n",
    "        from models.resnet import get_paraclassifier\n",
    "    elif key == 'vgg':\n",
    "        from models.vgg import get_paraclassifier\n",
    "    else:\n",
    "        from models.xception import get_paraclassifier\n",
    "\n",
    "    model_path = os.path.join('weights', 'para_{}.h5'.format(key))\n",
    "    model = load_model(model_path)\n",
    "    return model"
   ]
  },
  {
   "cell_type": "markdown",
   "metadata": {},
   "source": [
    "### ResNet 50"
   ]
  },
  {
   "cell_type": "code",
   "execution_count": null,
   "metadata": {},
   "outputs": [],
   "source": [
    "result = []\n",
    "df = pd.read_csv(os.path.join('logs', 'para_resnet.csv'))\n",
    "result.append('resnet')\n",
    "result.append(df.loc[df['val_loss'].idxmin()]['categorical_accuracy'])\n",
    "result.append(df.loc[df['val_loss'].idxmin()]['val_categorical_accuracy'])\n",
    "del df\n",
    "\n",
    "K.clear_session()\n",
    "model = build_paraclassifier('resnet')\n",
    "test_generator = ParaclassifierGenerator('resnet', test, 32, True)\n",
    "pred = model.evaluate_generator(test_generator)\n",
    "result.append(pred[1])\n",
    "results.append(result)\n",
    "\n",
    "del model\n",
    "del test_generator\n",
    "_ = gc.collect()"
   ]
  },
  {
   "cell_type": "markdown",
   "metadata": {},
   "source": [
    "### Inception"
   ]
  },
  {
   "cell_type": "code",
   "execution_count": null,
   "metadata": {},
   "outputs": [],
   "source": [
    "result = []\n",
    "df = pd.read_csv(os.path.join('logs', 'para_inception.csv'))\n",
    "result.append('inception')\n",
    "result.append(df.loc[df['val_loss'].idxmin()]['categorical_accuracy'])\n",
    "result.append(df.loc[df['val_loss'].idxmin()]['val_categorical_accuracy'])\n",
    "del df\n",
    "\n",
    "K.clear_session()\n",
    "model = build_paraclassifier('inception')\n",
    "test_generator = ParaclassifierGenerator('inception', test, 32, True)\n",
    "pred = model.evaluate_generator(test_generator)\n",
    "result.append(pred[1])\n",
    "results.append(result)\n",
    "\n",
    "del model\n",
    "del test_generator\n",
    "_ = gc.collect()"
   ]
  },
  {
   "cell_type": "markdown",
   "metadata": {},
   "source": [
    "### InceptionResnet"
   ]
  },
  {
   "cell_type": "code",
   "execution_count": null,
   "metadata": {},
   "outputs": [],
   "source": [
    "result = []\n",
    "df = pd.read_csv(os.path.join('logs', 'para_inceptionresnet.csv'))\n",
    "result.append('inceptionresnet')\n",
    "result.append(df.loc[df['val_loss'].idxmin()]['categorical_accuracy'])\n",
    "result.append(df.loc[df['val_loss'].idxmin()]['val_categorical_accuracy'])\n",
    "del df\n",
    "\n",
    "K.clear_session()\n",
    "model = build_paraclassifier('inceptionresnet')\n",
    "test_generator = ParaclassifierGenerator('inceptionresnet', test, 32, True)\n",
    "pred = model.evaluate_generator(test_generator)\n",
    "result.append(pred[1])\n",
    "results.append(result)\n",
    "\n",
    "del model\n",
    "del test_generator\n",
    "_ = gc.collect()"
   ]
  },
  {
   "cell_type": "markdown",
   "metadata": {},
   "source": [
    "### DenseNet"
   ]
  },
  {
   "cell_type": "code",
   "execution_count": null,
   "metadata": {},
   "outputs": [],
   "source": [
    "result = []\n",
    "df = pd.read_csv(os.path.join('logs', 'para_densenet.csv'))\n",
    "result.append('densenet')\n",
    "result.append(df.loc[df['val_loss'].idxmin()]['categorical_accuracy'])\n",
    "result.append(df.loc[df['val_loss'].idxmin()]['val_categorical_accuracy'])\n",
    "del df\n",
    "\n",
    "K.clear_session()\n",
    "model = build_paraclassifier('densenet')\n",
    "test_generator = ParaclassifierGenerator('densenet', test, 32, True)\n",
    "pred = model.evaluate_generator(test_generator)\n",
    "result.append(pred[1])\n",
    "results.append(result)\n",
    "\n",
    "del model\n",
    "del test_generator\n",
    "_ = gc.collect()"
   ]
  },
  {
   "cell_type": "markdown",
   "metadata": {},
   "source": [
    "### Xception"
   ]
  },
  {
   "cell_type": "code",
   "execution_count": null,
   "metadata": {},
   "outputs": [],
   "source": [
    "result = []\n",
    "df = pd.read_csv(os.path.join('logs', 'para_xception.csv'))\n",
    "result.append('xception')\n",
    "result.append(df.loc[df['val_loss'].idxmin()]['categorical_accuracy'])\n",
    "result.append(df.loc[df['val_loss'].idxmin()]['val_categorical_accuracy'])\n",
    "del df\n",
    "\n",
    "K.clear_session()\n",
    "model = build_paraclassifier('xception')\n",
    "test_generator = ParaclassifierGenerator('xception', test, 32, True)\n",
    "pred = model.evaluate_generator(test_generator)\n",
    "result.append(pred[1])\n",
    "results.append(result)\n",
    "\n",
    "del model\n",
    "del test_generator\n",
    "_ = gc.collect()"
   ]
  },
  {
   "cell_type": "markdown",
   "metadata": {},
   "source": [
    "### VGG"
   ]
  },
  {
   "cell_type": "code",
   "execution_count": null,
   "metadata": {},
   "outputs": [],
   "source": [
    "result = []\n",
    "df = pd.read_csv(os.path.join('logs', 'para_vgg.csv'))\n",
    "result.append('vgg')\n",
    "result.append(df.loc[df['val_loss'].idxmin()]['categorical_accuracy'])\n",
    "result.append(df.loc[df['val_loss'].idxmin()]['val_categorical_accuracy'])\n",
    "del df\n",
    "\n",
    "K.clear_session()\n",
    "model = build_paraclassifier('vgg')\n",
    "test_generator = ParaclassifierGenerator('vgg', test, 32, True)\n",
    "pred = model.evaluate_generator(test_generator)\n",
    "result.append(pred[1])\n",
    "results.append(result)\n",
    "\n",
    "del model\n",
    "del test_generator\n",
    "_ = gc.collect()"
   ]
  },
  {
   "cell_type": "code",
   "execution_count": null,
   "metadata": {},
   "outputs": [],
   "source": [
    "results"
   ]
  },
  {
   "cell_type": "code",
   "execution_count": null,
   "metadata": {},
   "outputs": [],
   "source": [
    "df = pd.DataFrame.from_records(results, columns=['Name', 'Training Accuracy',\n",
    "                                                                     'Validation Accuracy',\n",
    "                                                                     'Test Accuracy'])\n",
    "print(df)\n",
    "df.to_csv(os.path.join('meta', 'para_results.csv'))"
   ]
  }
 ],
 "metadata": {
  "kernelspec": {
   "display_name": "Python 3",
   "language": "python",
   "name": "python3"
  },
  "language_info": {
   "codemirror_mode": {
    "name": "ipython",
    "version": 3
   },
   "file_extension": ".py",
   "mimetype": "text/x-python",
   "name": "python",
   "nbconvert_exporter": "python",
   "pygments_lexer": "ipython3",
   "version": "3.6.8"
  }
 },
 "nbformat": 4,
 "nbformat_minor": 2
}
